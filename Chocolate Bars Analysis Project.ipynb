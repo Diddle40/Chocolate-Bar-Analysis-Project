{
 "cells": [
  {
   "cell_type": "markdown",
   "id": "1265ed0d",
   "metadata": {},
   "source": [
    "### Group 9\n",
    "#### Goodness Chizorom Nwokebu\n",
    "WTF/23/DS/B/059"
   ]
  },
  {
   "cell_type": "code",
   "execution_count": 1,
   "id": "6263ba5f",
   "metadata": {},
   "outputs": [],
   "source": [
    "import pandas as pd\n",
    "import matplotlib.pyplot as plt\n",
    "import seaborn as sns\n",
    "import numpy as np\n",
    "import warnings\n"
   ]
  },
  {
   "cell_type": "code",
   "execution_count": 2,
   "id": "5c95e5ed",
   "metadata": {},
   "outputs": [
    {
     "data": {
      "text/html": [
       "<div>\n",
       "<style scoped>\n",
       "    .dataframe tbody tr th:only-of-type {\n",
       "        vertical-align: middle;\n",
       "    }\n",
       "\n",
       "    .dataframe tbody tr th {\n",
       "        vertical-align: top;\n",
       "    }\n",
       "\n",
       "    .dataframe thead th {\n",
       "        text-align: right;\n",
       "    }\n",
       "</style>\n",
       "<table border=\"1\" class=\"dataframe\">\n",
       "  <thead>\n",
       "    <tr style=\"text-align: right;\">\n",
       "      <th></th>\n",
       "      <th>id</th>\n",
       "      <th>manufacturer</th>\n",
       "      <th>company_location</th>\n",
       "      <th>year_reviewed</th>\n",
       "      <th>bean_origin</th>\n",
       "      <th>bar_name</th>\n",
       "      <th>cocoa_percent</th>\n",
       "      <th>num_ingredients</th>\n",
       "      <th>ingredients</th>\n",
       "      <th>review</th>\n",
       "      <th>rating</th>\n",
       "    </tr>\n",
       "  </thead>\n",
       "  <tbody>\n",
       "    <tr>\n",
       "      <th>0</th>\n",
       "      <td>2454</td>\n",
       "      <td>5150</td>\n",
       "      <td>U.S.A.</td>\n",
       "      <td>2019</td>\n",
       "      <td>Tanzania</td>\n",
       "      <td>Kokoa Kamili, batch 1</td>\n",
       "      <td>76.0</td>\n",
       "      <td>3.0</td>\n",
       "      <td>B,S,C</td>\n",
       "      <td>rich cocoa, fatty, bready</td>\n",
       "      <td>3.25</td>\n",
       "    </tr>\n",
       "    <tr>\n",
       "      <th>1</th>\n",
       "      <td>2458</td>\n",
       "      <td>5150</td>\n",
       "      <td>U.S.A.</td>\n",
       "      <td>2019</td>\n",
       "      <td>Dominican Republic</td>\n",
       "      <td>Zorzal, batch 1</td>\n",
       "      <td>76.0</td>\n",
       "      <td>3.0</td>\n",
       "      <td>B,S,C</td>\n",
       "      <td>cocoa, vegetal, savory</td>\n",
       "      <td>3.50</td>\n",
       "    </tr>\n",
       "    <tr>\n",
       "      <th>2</th>\n",
       "      <td>2454</td>\n",
       "      <td>5150</td>\n",
       "      <td>U.S.A.</td>\n",
       "      <td>2019</td>\n",
       "      <td>Madagascar</td>\n",
       "      <td>Bejofo Estate, batch 1</td>\n",
       "      <td>76.0</td>\n",
       "      <td>3.0</td>\n",
       "      <td>B,S,C</td>\n",
       "      <td>cocoa, blackberry, full body</td>\n",
       "      <td>3.75</td>\n",
       "    </tr>\n",
       "    <tr>\n",
       "      <th>3</th>\n",
       "      <td>2542</td>\n",
       "      <td>5150</td>\n",
       "      <td>U.S.A.</td>\n",
       "      <td>2021</td>\n",
       "      <td>Fiji</td>\n",
       "      <td>Matasawalevu, batch 1</td>\n",
       "      <td>68.0</td>\n",
       "      <td>3.0</td>\n",
       "      <td>B,S,C</td>\n",
       "      <td>chewy, off, rubbery</td>\n",
       "      <td>3.00</td>\n",
       "    </tr>\n",
       "    <tr>\n",
       "      <th>4</th>\n",
       "      <td>2546</td>\n",
       "      <td>5150</td>\n",
       "      <td>U.S.A.</td>\n",
       "      <td>2021</td>\n",
       "      <td>Venezuela</td>\n",
       "      <td>Sur del Lago, batch 1</td>\n",
       "      <td>72.0</td>\n",
       "      <td>3.0</td>\n",
       "      <td>B,S,C</td>\n",
       "      <td>fatty, earthy, moss, nutty,chalky</td>\n",
       "      <td>3.00</td>\n",
       "    </tr>\n",
       "  </tbody>\n",
       "</table>\n",
       "</div>"
      ],
      "text/plain": [
       "     id manufacturer company_location  year_reviewed         bean_origin  \\\n",
       "0  2454         5150           U.S.A.           2019            Tanzania   \n",
       "1  2458         5150           U.S.A.           2019  Dominican Republic   \n",
       "2  2454         5150           U.S.A.           2019          Madagascar   \n",
       "3  2542         5150           U.S.A.           2021                Fiji   \n",
       "4  2546         5150           U.S.A.           2021           Venezuela   \n",
       "\n",
       "                 bar_name  cocoa_percent  num_ingredients ingredients  \\\n",
       "0   Kokoa Kamili, batch 1           76.0              3.0       B,S,C   \n",
       "1         Zorzal, batch 1           76.0              3.0       B,S,C   \n",
       "2  Bejofo Estate, batch 1           76.0              3.0       B,S,C   \n",
       "3   Matasawalevu, batch 1           68.0              3.0       B,S,C   \n",
       "4   Sur del Lago, batch 1           72.0              3.0       B,S,C   \n",
       "\n",
       "                              review  rating  \n",
       "0          rich cocoa, fatty, bready    3.25  \n",
       "1             cocoa, vegetal, savory    3.50  \n",
       "2       cocoa, blackberry, full body    3.75  \n",
       "3                chewy, off, rubbery    3.00  \n",
       "4  fatty, earthy, moss, nutty,chalky    3.00  "
      ]
     },
     "execution_count": 2,
     "metadata": {},
     "output_type": "execute_result"
    }
   ],
   "source": [
    "# We start by reading the file and getting a sample data.\n",
    "choco_bars = pd.read_csv('chocolate_bars.csv')\n",
    "pd.set_option('display.max_columns', 50)\n",
    "choco_bars.head()"
   ]
  },
  {
   "cell_type": "code",
   "execution_count": 3,
   "id": "6cdf04f5",
   "metadata": {},
   "outputs": [
    {
     "data": {
      "text/html": [
       "<div>\n",
       "<style scoped>\n",
       "    .dataframe tbody tr th:only-of-type {\n",
       "        vertical-align: middle;\n",
       "    }\n",
       "\n",
       "    .dataframe tbody tr th {\n",
       "        vertical-align: top;\n",
       "    }\n",
       "\n",
       "    .dataframe thead th {\n",
       "        text-align: right;\n",
       "    }\n",
       "</style>\n",
       "<table border=\"1\" class=\"dataframe\">\n",
       "  <thead>\n",
       "    <tr style=\"text-align: right;\">\n",
       "      <th></th>\n",
       "      <th>id</th>\n",
       "      <th>manufacturer</th>\n",
       "      <th>company_location</th>\n",
       "      <th>year_reviewed</th>\n",
       "      <th>bean_origin</th>\n",
       "      <th>bar_name</th>\n",
       "      <th>cocoa_percent</th>\n",
       "      <th>num_ingredients</th>\n",
       "      <th>ingredients</th>\n",
       "      <th>review</th>\n",
       "      <th>rating</th>\n",
       "    </tr>\n",
       "  </thead>\n",
       "  <tbody>\n",
       "    <tr>\n",
       "      <th>0</th>\n",
       "      <td>2454</td>\n",
       "      <td>5150</td>\n",
       "      <td>U.S.A.</td>\n",
       "      <td>2019</td>\n",
       "      <td>Tanzania</td>\n",
       "      <td>Kokoa Kamili, batch 1</td>\n",
       "      <td>76.0</td>\n",
       "      <td>3.0</td>\n",
       "      <td>B,S,C</td>\n",
       "      <td>rich cocoa, fatty, bready</td>\n",
       "      <td>3.25</td>\n",
       "    </tr>\n",
       "    <tr>\n",
       "      <th>1</th>\n",
       "      <td>2458</td>\n",
       "      <td>5150</td>\n",
       "      <td>U.S.A.</td>\n",
       "      <td>2019</td>\n",
       "      <td>Dominican Republic</td>\n",
       "      <td>Zorzal, batch 1</td>\n",
       "      <td>76.0</td>\n",
       "      <td>3.0</td>\n",
       "      <td>B,S,C</td>\n",
       "      <td>cocoa, vegetal, savory</td>\n",
       "      <td>3.50</td>\n",
       "    </tr>\n",
       "    <tr>\n",
       "      <th>2</th>\n",
       "      <td>2454</td>\n",
       "      <td>5150</td>\n",
       "      <td>U.S.A.</td>\n",
       "      <td>2019</td>\n",
       "      <td>Madagascar</td>\n",
       "      <td>Bejofo Estate, batch 1</td>\n",
       "      <td>76.0</td>\n",
       "      <td>3.0</td>\n",
       "      <td>B,S,C</td>\n",
       "      <td>cocoa, blackberry, full body</td>\n",
       "      <td>3.75</td>\n",
       "    </tr>\n",
       "    <tr>\n",
       "      <th>3</th>\n",
       "      <td>2542</td>\n",
       "      <td>5150</td>\n",
       "      <td>U.S.A.</td>\n",
       "      <td>2021</td>\n",
       "      <td>Fiji</td>\n",
       "      <td>Matasawalevu, batch 1</td>\n",
       "      <td>68.0</td>\n",
       "      <td>3.0</td>\n",
       "      <td>B,S,C</td>\n",
       "      <td>chewy, off, rubbery</td>\n",
       "      <td>3.00</td>\n",
       "    </tr>\n",
       "    <tr>\n",
       "      <th>4</th>\n",
       "      <td>2546</td>\n",
       "      <td>5150</td>\n",
       "      <td>U.S.A.</td>\n",
       "      <td>2021</td>\n",
       "      <td>Venezuela</td>\n",
       "      <td>Sur del Lago, batch 1</td>\n",
       "      <td>72.0</td>\n",
       "      <td>3.0</td>\n",
       "      <td>B,S,C</td>\n",
       "      <td>fatty, earthy, moss, nutty,chalky</td>\n",
       "      <td>3.00</td>\n",
       "    </tr>\n",
       "    <tr>\n",
       "      <th>5</th>\n",
       "      <td>2546</td>\n",
       "      <td>5150</td>\n",
       "      <td>U.S.A.</td>\n",
       "      <td>2021</td>\n",
       "      <td>Uganda</td>\n",
       "      <td>Semuliki Forest, batch 1</td>\n",
       "      <td>80.0</td>\n",
       "      <td>3.0</td>\n",
       "      <td>B,S,C</td>\n",
       "      <td>mildly bitter, basic cocoa, fatty</td>\n",
       "      <td>3.25</td>\n",
       "    </tr>\n",
       "    <tr>\n",
       "      <th>6</th>\n",
       "      <td>2542</td>\n",
       "      <td>5150</td>\n",
       "      <td>U.S.A.</td>\n",
       "      <td>2021</td>\n",
       "      <td>India</td>\n",
       "      <td>Anamalai, batch 1</td>\n",
       "      <td>68.0</td>\n",
       "      <td>3.0</td>\n",
       "      <td>B,S,C</td>\n",
       "      <td>milk brownie, macadamia,chewy</td>\n",
       "      <td>3.50</td>\n",
       "    </tr>\n",
       "    <tr>\n",
       "      <th>7</th>\n",
       "      <td>797</td>\n",
       "      <td>A. Morin</td>\n",
       "      <td>France</td>\n",
       "      <td>2012</td>\n",
       "      <td>Bolivia</td>\n",
       "      <td>Bolivia</td>\n",
       "      <td>70.0</td>\n",
       "      <td>4.0</td>\n",
       "      <td>B,S,C,L</td>\n",
       "      <td>vegetal, nutty</td>\n",
       "      <td>3.50</td>\n",
       "    </tr>\n",
       "    <tr>\n",
       "      <th>8</th>\n",
       "      <td>797</td>\n",
       "      <td>A. Morin</td>\n",
       "      <td>France</td>\n",
       "      <td>2012</td>\n",
       "      <td>Peru</td>\n",
       "      <td>Peru</td>\n",
       "      <td>63.0</td>\n",
       "      <td>4.0</td>\n",
       "      <td>B,S,C,L</td>\n",
       "      <td>fruity, melon, roasty</td>\n",
       "      <td>3.75</td>\n",
       "    </tr>\n",
       "    <tr>\n",
       "      <th>9</th>\n",
       "      <td>1011</td>\n",
       "      <td>A. Morin</td>\n",
       "      <td>France</td>\n",
       "      <td>2013</td>\n",
       "      <td>Panama</td>\n",
       "      <td>Panama</td>\n",
       "      <td>70.0</td>\n",
       "      <td>4.0</td>\n",
       "      <td>B,S,C,L</td>\n",
       "      <td>brief fruit note, earthy, nutty</td>\n",
       "      <td>2.75</td>\n",
       "    </tr>\n",
       "    <tr>\n",
       "      <th>10</th>\n",
       "      <td>1015</td>\n",
       "      <td>A. Morin</td>\n",
       "      <td>France</td>\n",
       "      <td>2013</td>\n",
       "      <td>Colombia</td>\n",
       "      <td>Colombie</td>\n",
       "      <td>70.0</td>\n",
       "      <td>4.0</td>\n",
       "      <td>B,S,C,L</td>\n",
       "      <td>burnt rubber,alkalyzed notes</td>\n",
       "      <td>2.75</td>\n",
       "    </tr>\n",
       "    <tr>\n",
       "      <th>11</th>\n",
       "      <td>1011</td>\n",
       "      <td>A. Morin</td>\n",
       "      <td>France</td>\n",
       "      <td>2013</td>\n",
       "      <td>Madagascar</td>\n",
       "      <td>Madagascar, Criollo</td>\n",
       "      <td>70.0</td>\n",
       "      <td>4.0</td>\n",
       "      <td>B,S,C,L</td>\n",
       "      <td>sticky, red fruit, sour</td>\n",
       "      <td>3.00</td>\n",
       "    </tr>\n",
       "    <tr>\n",
       "      <th>12</th>\n",
       "      <td>1015</td>\n",
       "      <td>A. Morin</td>\n",
       "      <td>France</td>\n",
       "      <td>2013</td>\n",
       "      <td>Burma</td>\n",
       "      <td>Birmanie</td>\n",
       "      <td>70.0</td>\n",
       "      <td>4.0</td>\n",
       "      <td>B,S,C,L</td>\n",
       "      <td>sticky, smokey, grass</td>\n",
       "      <td>3.00</td>\n",
       "    </tr>\n",
       "    <tr>\n",
       "      <th>13</th>\n",
       "      <td>1011</td>\n",
       "      <td>A. Morin</td>\n",
       "      <td>France</td>\n",
       "      <td>2013</td>\n",
       "      <td>Brazil</td>\n",
       "      <td>Brazil</td>\n",
       "      <td>70.0</td>\n",
       "      <td>4.0</td>\n",
       "      <td>B,S,C,L</td>\n",
       "      <td>mild tobacco</td>\n",
       "      <td>3.25</td>\n",
       "    </tr>\n",
       "    <tr>\n",
       "      <th>14</th>\n",
       "      <td>1015</td>\n",
       "      <td>A. Morin</td>\n",
       "      <td>France</td>\n",
       "      <td>2013</td>\n",
       "      <td>Papua New Guinea</td>\n",
       "      <td>Papua New Guinea</td>\n",
       "      <td>70.0</td>\n",
       "      <td>4.0</td>\n",
       "      <td>B,S,C,L</td>\n",
       "      <td>mild fruit, strong smoke</td>\n",
       "      <td>3.25</td>\n",
       "    </tr>\n",
       "  </tbody>\n",
       "</table>\n",
       "</div>"
      ],
      "text/plain": [
       "      id manufacturer company_location  year_reviewed         bean_origin  \\\n",
       "0   2454         5150           U.S.A.           2019            Tanzania   \n",
       "1   2458         5150           U.S.A.           2019  Dominican Republic   \n",
       "2   2454         5150           U.S.A.           2019          Madagascar   \n",
       "3   2542         5150           U.S.A.           2021                Fiji   \n",
       "4   2546         5150           U.S.A.           2021           Venezuela   \n",
       "5   2546         5150           U.S.A.           2021              Uganda   \n",
       "6   2542         5150           U.S.A.           2021               India   \n",
       "7    797     A. Morin           France           2012             Bolivia   \n",
       "8    797     A. Morin           France           2012                Peru   \n",
       "9   1011     A. Morin           France           2013              Panama   \n",
       "10  1015     A. Morin           France           2013            Colombia   \n",
       "11  1011     A. Morin           France           2013          Madagascar   \n",
       "12  1015     A. Morin           France           2013               Burma   \n",
       "13  1011     A. Morin           France           2013              Brazil   \n",
       "14  1015     A. Morin           France           2013    Papua New Guinea   \n",
       "\n",
       "                    bar_name  cocoa_percent  num_ingredients ingredients  \\\n",
       "0      Kokoa Kamili, batch 1           76.0              3.0       B,S,C   \n",
       "1            Zorzal, batch 1           76.0              3.0       B,S,C   \n",
       "2     Bejofo Estate, batch 1           76.0              3.0       B,S,C   \n",
       "3      Matasawalevu, batch 1           68.0              3.0       B,S,C   \n",
       "4      Sur del Lago, batch 1           72.0              3.0       B,S,C   \n",
       "5   Semuliki Forest, batch 1           80.0              3.0       B,S,C   \n",
       "6          Anamalai, batch 1           68.0              3.0       B,S,C   \n",
       "7                    Bolivia           70.0              4.0     B,S,C,L   \n",
       "8                       Peru           63.0              4.0     B,S,C,L   \n",
       "9                     Panama           70.0              4.0     B,S,C,L   \n",
       "10                  Colombie           70.0              4.0     B,S,C,L   \n",
       "11       Madagascar, Criollo           70.0              4.0     B,S,C,L   \n",
       "12                  Birmanie           70.0              4.0     B,S,C,L   \n",
       "13                    Brazil           70.0              4.0     B,S,C,L   \n",
       "14          Papua New Guinea           70.0              4.0     B,S,C,L   \n",
       "\n",
       "                               review  rating  \n",
       "0           rich cocoa, fatty, bready    3.25  \n",
       "1              cocoa, vegetal, savory    3.50  \n",
       "2        cocoa, blackberry, full body    3.75  \n",
       "3                 chewy, off, rubbery    3.00  \n",
       "4   fatty, earthy, moss, nutty,chalky    3.00  \n",
       "5   mildly bitter, basic cocoa, fatty    3.25  \n",
       "6       milk brownie, macadamia,chewy    3.50  \n",
       "7                      vegetal, nutty    3.50  \n",
       "8               fruity, melon, roasty    3.75  \n",
       "9     brief fruit note, earthy, nutty    2.75  \n",
       "10       burnt rubber,alkalyzed notes    2.75  \n",
       "11            sticky, red fruit, sour    3.00  \n",
       "12              sticky, smokey, grass    3.00  \n",
       "13                       mild tobacco    3.25  \n",
       "14           mild fruit, strong smoke    3.25  "
      ]
     },
     "execution_count": 3,
     "metadata": {},
     "output_type": "execute_result"
    }
   ],
   "source": [
    "choco_bars.head(15)#to get 15 samples of our data"
   ]
  },
  {
   "cell_type": "markdown",
   "id": "003b9cbb",
   "metadata": {},
   "source": [
    "### DATA DESCRIBING\n",
    "1. Getting a general overview of the dataframe\n",
    "2. Checking the data for null values\n",
    "3. Check if there are duplicated rows in the dataframe."
   ]
  },
  {
   "cell_type": "code",
   "execution_count": 4,
   "id": "b3defa88",
   "metadata": {},
   "outputs": [
    {
     "name": "stdout",
     "output_type": "stream",
     "text": [
      "<class 'pandas.core.frame.DataFrame'>\n",
      "RangeIndex: 2530 entries, 0 to 2529\n",
      "Data columns (total 11 columns):\n",
      " #   Column            Non-Null Count  Dtype  \n",
      "---  ------            --------------  -----  \n",
      " 0   id                2530 non-null   int64  \n",
      " 1   manufacturer      2530 non-null   object \n",
      " 2   company_location  2530 non-null   object \n",
      " 3   year_reviewed     2530 non-null   int64  \n",
      " 4   bean_origin       2530 non-null   object \n",
      " 5   bar_name          2530 non-null   object \n",
      " 6   cocoa_percent     2530 non-null   float64\n",
      " 7   num_ingredients   2443 non-null   float64\n",
      " 8   ingredients       2443 non-null   object \n",
      " 9   review            2530 non-null   object \n",
      " 10  rating            2530 non-null   float64\n",
      "dtypes: float64(3), int64(2), object(6)\n",
      "memory usage: 217.5+ KB\n"
     ]
    }
   ],
   "source": [
    "choco_bars.info()"
   ]
  },
  {
   "cell_type": "code",
   "execution_count": 6,
   "id": "dd50146d",
   "metadata": {},
   "outputs": [
    {
     "data": {
      "text/plain": [
       "id                   0\n",
       "manufacturer         0\n",
       "company_location     0\n",
       "year_reviewed        0\n",
       "bean_origin          0\n",
       "bar_name             0\n",
       "cocoa_percent        0\n",
       "num_ingredients     87\n",
       "ingredients         87\n",
       "review               0\n",
       "rating               0\n",
       "dtype: int64"
      ]
     },
     "execution_count": 6,
     "metadata": {},
     "output_type": "execute_result"
    }
   ],
   "source": [
    "choco_bars.isnull().sum()"
   ]
  },
  {
   "cell_type": "code",
   "execution_count": 5,
   "id": "dfdcff12",
   "metadata": {},
   "outputs": [
    {
     "data": {
      "text/plain": [
       "False    2530\n",
       "dtype: int64"
      ]
     },
     "execution_count": 5,
     "metadata": {},
     "output_type": "execute_result"
    }
   ],
   "source": [
    "#checking for duplicates\n",
    "choco_bars.duplicated().value_counts()"
   ]
  },
  {
   "cell_type": "markdown",
   "id": "e21e54fa",
   "metadata": {},
   "source": [
    "**COMMENT**\n",
    "- num_ingredients and ingredients have 87 null values\n",
    "- They were no duplicated values across each rows\n",
    "- Each value seem to have the appropriate data type"
   ]
  },
  {
   "cell_type": "markdown",
   "id": "2f79d01a",
   "metadata": {},
   "source": [
    "### DATA CLEANING\n",
    "We would be dropping the null values."
   ]
  },
  {
   "cell_type": "code",
   "execution_count": 6,
   "id": "0fe4fc29",
   "metadata": {},
   "outputs": [],
   "source": [
    "choco_bars.dropna(inplace = True)"
   ]
  },
  {
   "cell_type": "markdown",
   "id": "c01371ae",
   "metadata": {},
   "source": [
    "### Average Rating by Country of Origin"
   ]
  },
  {
   "cell_type": "code",
   "execution_count": 7,
   "id": "bba468d3",
   "metadata": {},
   "outputs": [
    {
     "data": {
      "text/html": [
       "<div>\n",
       "<style scoped>\n",
       "    .dataframe tbody tr th:only-of-type {\n",
       "        vertical-align: middle;\n",
       "    }\n",
       "\n",
       "    .dataframe tbody tr th {\n",
       "        vertical-align: top;\n",
       "    }\n",
       "\n",
       "    .dataframe thead th {\n",
       "        text-align: right;\n",
       "    }\n",
       "</style>\n",
       "<table border=\"1\" class=\"dataframe\">\n",
       "  <thead>\n",
       "    <tr style=\"text-align: right;\">\n",
       "      <th></th>\n",
       "      <th>bean_origin</th>\n",
       "      <th>rating</th>\n",
       "    </tr>\n",
       "  </thead>\n",
       "  <tbody>\n",
       "    <tr>\n",
       "      <th>7</th>\n",
       "      <td>China</td>\n",
       "      <td>3.500000</td>\n",
       "    </tr>\n",
       "    <tr>\n",
       "      <th>42</th>\n",
       "      <td>Sao Tome &amp; Principe</td>\n",
       "      <td>3.500000</td>\n",
       "    </tr>\n",
       "    <tr>\n",
       "      <th>44</th>\n",
       "      <td>Solomon Islands</td>\n",
       "      <td>3.450000</td>\n",
       "    </tr>\n",
       "    <tr>\n",
       "      <th>9</th>\n",
       "      <td>Congo</td>\n",
       "      <td>3.318182</td>\n",
       "    </tr>\n",
       "    <tr>\n",
       "      <th>53</th>\n",
       "      <td>Thailand</td>\n",
       "      <td>3.300000</td>\n",
       "    </tr>\n",
       "    <tr>\n",
       "      <th>...</th>\n",
       "      <td>...</td>\n",
       "      <td>...</td>\n",
       "    </tr>\n",
       "    <tr>\n",
       "      <th>30</th>\n",
       "      <td>Martinique</td>\n",
       "      <td>2.750000</td>\n",
       "    </tr>\n",
       "    <tr>\n",
       "      <th>43</th>\n",
       "      <td>Sierra Leone</td>\n",
       "      <td>2.750000</td>\n",
       "    </tr>\n",
       "    <tr>\n",
       "      <th>38</th>\n",
       "      <td>Principe</td>\n",
       "      <td>2.750000</td>\n",
       "    </tr>\n",
       "    <tr>\n",
       "      <th>47</th>\n",
       "      <td>St.Vincent-Grenadines</td>\n",
       "      <td>2.750000</td>\n",
       "    </tr>\n",
       "    <tr>\n",
       "      <th>39</th>\n",
       "      <td>Puerto Rico</td>\n",
       "      <td>2.714286</td>\n",
       "    </tr>\n",
       "  </tbody>\n",
       "</table>\n",
       "<p>62 rows × 2 columns</p>\n",
       "</div>"
      ],
      "text/plain": [
       "              bean_origin    rating\n",
       "7                   China  3.500000\n",
       "42    Sao Tome & Principe  3.500000\n",
       "44        Solomon Islands  3.450000\n",
       "9                   Congo  3.318182\n",
       "53               Thailand  3.300000\n",
       "..                    ...       ...\n",
       "30             Martinique  2.750000\n",
       "43           Sierra Leone  2.750000\n",
       "38               Principe  2.750000\n",
       "47  St.Vincent-Grenadines  2.750000\n",
       "39            Puerto Rico  2.714286\n",
       "\n",
       "[62 rows x 2 columns]"
      ]
     },
     "execution_count": 7,
     "metadata": {},
     "output_type": "execute_result"
    }
   ],
   "source": [
    "bean_origin_avg_rating = choco_bars.groupby('bean_origin').rating.mean().reset_index().sort_values(by = ['rating'],ascending = False)\n",
    "bean_origin_avg_rating "
   ]
  },
  {
   "cell_type": "code",
   "execution_count": 8,
   "id": "c1c45a70",
   "metadata": {},
   "outputs": [
    {
     "data": {
      "text/plain": [
       "(array([ 0,  1,  2,  3,  4,  5,  6,  7,  8,  9, 10, 11, 12, 13, 14, 15, 16,\n",
       "        17, 18, 19, 20, 21, 22, 23, 24, 25, 26, 27, 28, 29, 30, 31, 32, 33,\n",
       "        34, 35, 36, 37, 38, 39, 40, 41, 42, 43, 44, 45, 46, 47, 48, 49, 50,\n",
       "        51, 52, 53, 54, 55, 56, 57, 58, 59, 60, 61]),\n",
       " [Text(0, 0, 'China'),\n",
       "  Text(1, 0, 'Sao Tome & Principe'),\n",
       "  Text(2, 0, 'Solomon Islands'),\n",
       "  Text(3, 0, 'Congo'),\n",
       "  Text(4, 0, 'Thailand'),\n",
       "  Text(5, 0, 'Cuba'),\n",
       "  Text(6, 0, 'Vietnam'),\n",
       "  Text(7, 0, 'Papua New Guinea'),\n",
       "  Text(8, 0, 'Madagascar'),\n",
       "  Text(9, 0, 'Haiti'),\n",
       "  Text(10, 0, 'Brazil'),\n",
       "  Text(11, 0, 'Guatemala'),\n",
       "  Text(12, 0, 'Nicaragua'),\n",
       "  Text(13, 0, 'Sulawesi'),\n",
       "  Text(14, 0, 'Gabon'),\n",
       "  Text(15, 0, 'Suriname'),\n",
       "  Text(16, 0, 'Tobago'),\n",
       "  Text(17, 0, 'Australia'),\n",
       "  Text(18, 0, 'Trinidad'),\n",
       "  Text(19, 0, 'Tanzania'),\n",
       "  Text(20, 0, 'Belize'),\n",
       "  Text(21, 0, 'Honduras'),\n",
       "  Text(22, 0, 'Venezuela'),\n",
       "  Text(23, 0, 'Peru'),\n",
       "  Text(24, 0, 'Dominican Republic'),\n",
       "  Text(25, 0, 'U.S.A.'),\n",
       "  Text(26, 0, 'Ecuador'),\n",
       "  Text(27, 0, 'Colombia'),\n",
       "  Text(28, 0, 'Jamaica'),\n",
       "  Text(29, 0, 'Bolivia'),\n",
       "  Text(30, 0, 'Ghana'),\n",
       "  Text(31, 0, 'Mexico'),\n",
       "  Text(32, 0, 'India'),\n",
       "  Text(33, 0, 'Indonesia'),\n",
       "  Text(34, 0, 'Costa Rica'),\n",
       "  Text(35, 0, 'Philippines'),\n",
       "  Text(36, 0, 'Panama'),\n",
       "  Text(37, 0, 'Uganda'),\n",
       "  Text(38, 0, 'Malaysia'),\n",
       "  Text(39, 0, 'Blend'),\n",
       "  Text(40, 0, 'Togo'),\n",
       "  Text(41, 0, 'Cameroon'),\n",
       "  Text(42, 0, 'St. Lucia'),\n",
       "  Text(43, 0, 'Samoa'),\n",
       "  Text(44, 0, 'Liberia'),\n",
       "  Text(45, 0, 'Sao Tome'),\n",
       "  Text(46, 0, 'Vanuatu'),\n",
       "  Text(47, 0, 'Fiji'),\n",
       "  Text(48, 0, 'Grenada'),\n",
       "  Text(49, 0, 'El Salvador'),\n",
       "  Text(50, 0, 'Sumatra'),\n",
       "  Text(51, 0, 'Burma'),\n",
       "  Text(52, 0, 'DR Congo'),\n",
       "  Text(53, 0, 'Sri Lanka'),\n",
       "  Text(54, 0, 'Nigeria'),\n",
       "  Text(55, 0, 'Taiwan'),\n",
       "  Text(56, 0, 'Ivory Coast'),\n",
       "  Text(57, 0, 'Martinique'),\n",
       "  Text(58, 0, 'Sierra Leone'),\n",
       "  Text(59, 0, 'Principe'),\n",
       "  Text(60, 0, 'St.Vincent-Grenadines'),\n",
       "  Text(61, 0, 'Puerto Rico')])"
      ]
     },
     "execution_count": 8,
     "metadata": {},
     "output_type": "execute_result"
    },
    {
     "data": {
      "image/png": "[encoded data removed]",
      "text/plain": [
       "<Figure size 1440x504 with 1 Axes>"
      ]
     },
     "metadata": {
      "needs_background": "light"
     },
     "output_type": "display_data"
    }
   ],
   "source": [
    "plt.figure(figsize = (20,7))\n",
    "plt.title('Countries by average_rating')\n",
    "sns.barplot(x = 'bean_origin', y = 'rating',data =bean_origin_avg_rating)\n",
    "plt.xticks(rotation = 90)\n",
    "\n",
    "\n"
   ]
  },
  {
   "cell_type": "markdown",
   "id": "dd863d37",
   "metadata": {},
   "source": [
    "### Chocolate bars reviewed for each of those countries"
   ]
  },
  {
   "cell_type": "code",
   "execution_count": 16,
   "id": "0a3083db",
   "metadata": {},
   "outputs": [
    {
     "data": {
      "text/html": [
       "<div>\n",
       "<style scoped>\n",
       "    .dataframe tbody tr th:only-of-type {\n",
       "        vertical-align: middle;\n",
       "    }\n",
       "\n",
       "    .dataframe tbody tr th {\n",
       "        vertical-align: top;\n",
       "    }\n",
       "\n",
       "    .dataframe thead th {\n",
       "        text-align: right;\n",
       "    }\n",
       "</style>\n",
       "<table border=\"1\" class=\"dataframe\">\n",
       "  <thead>\n",
       "    <tr style=\"text-align: right;\">\n",
       "      <th></th>\n",
       "      <th>bean_origin</th>\n",
       "      <th>total_bars</th>\n",
       "    </tr>\n",
       "  </thead>\n",
       "  <tbody>\n",
       "    <tr>\n",
       "      <th>0</th>\n",
       "      <td>Australia</td>\n",
       "      <td>3</td>\n",
       "    </tr>\n",
       "    <tr>\n",
       "      <th>1</th>\n",
       "      <td>Belize</td>\n",
       "      <td>74</td>\n",
       "    </tr>\n",
       "    <tr>\n",
       "      <th>2</th>\n",
       "      <td>Blend</td>\n",
       "      <td>144</td>\n",
       "    </tr>\n",
       "    <tr>\n",
       "      <th>3</th>\n",
       "      <td>Bolivia</td>\n",
       "      <td>79</td>\n",
       "    </tr>\n",
       "    <tr>\n",
       "      <th>4</th>\n",
       "      <td>Brazil</td>\n",
       "      <td>77</td>\n",
       "    </tr>\n",
       "    <tr>\n",
       "      <th>...</th>\n",
       "      <td>...</td>\n",
       "      <td>...</td>\n",
       "    </tr>\n",
       "    <tr>\n",
       "      <th>57</th>\n",
       "      <td>U.S.A.</td>\n",
       "      <td>31</td>\n",
       "    </tr>\n",
       "    <tr>\n",
       "      <th>58</th>\n",
       "      <td>Uganda</td>\n",
       "      <td>18</td>\n",
       "    </tr>\n",
       "    <tr>\n",
       "      <th>59</th>\n",
       "      <td>Vanuatu</td>\n",
       "      <td>12</td>\n",
       "    </tr>\n",
       "    <tr>\n",
       "      <th>60</th>\n",
       "      <td>Venezuela</td>\n",
       "      <td>246</td>\n",
       "    </tr>\n",
       "    <tr>\n",
       "      <th>61</th>\n",
       "      <td>Vietnam</td>\n",
       "      <td>73</td>\n",
       "    </tr>\n",
       "  </tbody>\n",
       "</table>\n",
       "<p>62 rows × 2 columns</p>\n",
       "</div>"
      ],
      "text/plain": [
       "   bean_origin  total_bars\n",
       "0    Australia           3\n",
       "1       Belize          74\n",
       "2        Blend         144\n",
       "3      Bolivia          79\n",
       "4       Brazil          77\n",
       "..         ...         ...\n",
       "57      U.S.A.          31\n",
       "58      Uganda          18\n",
       "59     Vanuatu          12\n",
       "60   Venezuela         246\n",
       "61     Vietnam          73\n",
       "\n",
       "[62 rows x 2 columns]"
      ]
     },
     "execution_count": 16,
     "metadata": {},
     "output_type": "execute_result"
    }
   ],
   "source": [
    "bars_reviewed = choco_bars.groupby('bean_origin').bar_name.count().reset_index()\n",
    "bars_reviewed.rename(columns = {'bar_name' :'total_bars'}, inplace = True)\n",
    "bars_reviewed"
   ]
  },
  {
   "cell_type": "code",
   "execution_count": 14,
   "id": "146b1dee",
   "metadata": {},
   "outputs": [
    {
     "data": {
      "text/html": [
       "<div>\n",
       "<style scoped>\n",
       "    .dataframe tbody tr th:only-of-type {\n",
       "        vertical-align: middle;\n",
       "    }\n",
       "\n",
       "    .dataframe tbody tr th {\n",
       "        vertical-align: top;\n",
       "    }\n",
       "\n",
       "    .dataframe thead th {\n",
       "        text-align: right;\n",
       "    }\n",
       "</style>\n",
       "<table border=\"1\" class=\"dataframe\">\n",
       "  <thead>\n",
       "    <tr style=\"text-align: right;\">\n",
       "      <th></th>\n",
       "      <th>company_location</th>\n",
       "      <th>total_bars</th>\n",
       "    </tr>\n",
       "  </thead>\n",
       "  <tbody>\n",
       "    <tr>\n",
       "      <th>0</th>\n",
       "      <td>Amsterdam</td>\n",
       "      <td>12</td>\n",
       "    </tr>\n",
       "    <tr>\n",
       "      <th>1</th>\n",
       "      <td>Argentina</td>\n",
       "      <td>4</td>\n",
       "    </tr>\n",
       "    <tr>\n",
       "      <th>2</th>\n",
       "      <td>Australia</td>\n",
       "      <td>51</td>\n",
       "    </tr>\n",
       "    <tr>\n",
       "      <th>3</th>\n",
       "      <td>Austria</td>\n",
       "      <td>30</td>\n",
       "    </tr>\n",
       "    <tr>\n",
       "      <th>4</th>\n",
       "      <td>Belgium</td>\n",
       "      <td>60</td>\n",
       "    </tr>\n",
       "    <tr>\n",
       "      <th>...</th>\n",
       "      <td>...</td>\n",
       "      <td>...</td>\n",
       "    </tr>\n",
       "    <tr>\n",
       "      <th>62</th>\n",
       "      <td>U.S.A.</td>\n",
       "      <td>1118</td>\n",
       "    </tr>\n",
       "    <tr>\n",
       "      <th>63</th>\n",
       "      <td>Vanuatu</td>\n",
       "      <td>4</td>\n",
       "    </tr>\n",
       "    <tr>\n",
       "      <th>64</th>\n",
       "      <td>Venezuela</td>\n",
       "      <td>31</td>\n",
       "    </tr>\n",
       "    <tr>\n",
       "      <th>65</th>\n",
       "      <td>Vietnam</td>\n",
       "      <td>16</td>\n",
       "    </tr>\n",
       "    <tr>\n",
       "      <th>66</th>\n",
       "      <td>Wales</td>\n",
       "      <td>1</td>\n",
       "    </tr>\n",
       "  </tbody>\n",
       "</table>\n",
       "<p>67 rows × 2 columns</p>\n",
       "</div>"
      ],
      "text/plain": [
       "   company_location  total_bars\n",
       "0         Amsterdam          12\n",
       "1         Argentina           4\n",
       "2         Australia          51\n",
       "3           Austria          30\n",
       "4           Belgium          60\n",
       "..              ...         ...\n",
       "62           U.S.A.        1118\n",
       "63          Vanuatu           4\n",
       "64        Venezuela          31\n",
       "65          Vietnam          16\n",
       "66            Wales           1\n",
       "\n",
       "[67 rows x 2 columns]"
      ]
     },
     "execution_count": 14,
     "metadata": {},
     "output_type": "execute_result"
    }
   ],
   "source": [
    "bars_reviewed2 = choco_bars.groupby('company_location').bar_name.count().reset_index()\n",
    "bars_reviewed.rename(columns = {'bar_name' :'total_bars'}, inplace = True)\n",
    "bars_reviewed"
   ]
  },
  {
   "cell_type": "code",
   "execution_count": 17,
   "id": "0b39e842",
   "metadata": {},
   "outputs": [
    {
     "data": {
      "text/plain": [
       "(array([ 0,  1,  2,  3,  4,  5,  6,  7,  8,  9, 10, 11, 12, 13, 14, 15, 16,\n",
       "        17, 18, 19, 20, 21, 22, 23, 24, 25, 26, 27, 28, 29, 30, 31, 32, 33,\n",
       "        34, 35, 36, 37, 38, 39, 40, 41, 42, 43, 44, 45, 46, 47, 48, 49, 50,\n",
       "        51, 52, 53, 54, 55, 56, 57, 58, 59, 60, 61]),\n",
       " [Text(0, 0, 'Australia'),\n",
       "  Text(1, 0, 'Belize'),\n",
       "  Text(2, 0, 'Blend'),\n",
       "  Text(3, 0, 'Bolivia'),\n",
       "  Text(4, 0, 'Brazil'),\n",
       "  Text(5, 0, 'Burma'),\n",
       "  Text(6, 0, 'Cameroon'),\n",
       "  Text(7, 0, 'China'),\n",
       "  Text(8, 0, 'Colombia'),\n",
       "  Text(9, 0, 'Congo'),\n",
       "  Text(10, 0, 'Costa Rica'),\n",
       "  Text(11, 0, 'Cuba'),\n",
       "  Text(12, 0, 'DR Congo'),\n",
       "  Text(13, 0, 'Dominican Republic'),\n",
       "  Text(14, 0, 'Ecuador'),\n",
       "  Text(15, 0, 'El Salvador'),\n",
       "  Text(16, 0, 'Fiji'),\n",
       "  Text(17, 0, 'Gabon'),\n",
       "  Text(18, 0, 'Ghana'),\n",
       "  Text(19, 0, 'Grenada'),\n",
       "  Text(20, 0, 'Guatemala'),\n",
       "  Text(21, 0, 'Haiti'),\n",
       "  Text(22, 0, 'Honduras'),\n",
       "  Text(23, 0, 'India'),\n",
       "  Text(24, 0, 'Indonesia'),\n",
       "  Text(25, 0, 'Ivory Coast'),\n",
       "  Text(26, 0, 'Jamaica'),\n",
       "  Text(27, 0, 'Liberia'),\n",
       "  Text(28, 0, 'Madagascar'),\n",
       "  Text(29, 0, 'Malaysia'),\n",
       "  Text(30, 0, 'Martinique'),\n",
       "  Text(31, 0, 'Mexico'),\n",
       "  Text(32, 0, 'Nicaragua'),\n",
       "  Text(33, 0, 'Nigeria'),\n",
       "  Text(34, 0, 'Panama'),\n",
       "  Text(35, 0, 'Papua New Guinea'),\n",
       "  Text(36, 0, 'Peru'),\n",
       "  Text(37, 0, 'Philippines'),\n",
       "  Text(38, 0, 'Principe'),\n",
       "  Text(39, 0, 'Puerto Rico'),\n",
       "  Text(40, 0, 'Samoa'),\n",
       "  Text(41, 0, 'Sao Tome'),\n",
       "  Text(42, 0, 'Sao Tome & Principe'),\n",
       "  Text(43, 0, 'Sierra Leone'),\n",
       "  Text(44, 0, 'Solomon Islands'),\n",
       "  Text(45, 0, 'Sri Lanka'),\n",
       "  Text(46, 0, 'St. Lucia'),\n",
       "  Text(47, 0, 'St.Vincent-Grenadines'),\n",
       "  Text(48, 0, 'Sulawesi'),\n",
       "  Text(49, 0, 'Sumatra'),\n",
       "  Text(50, 0, 'Suriname'),\n",
       "  Text(51, 0, 'Taiwan'),\n",
       "  Text(52, 0, 'Tanzania'),\n",
       "  Text(53, 0, 'Thailand'),\n",
       "  Text(54, 0, 'Tobago'),\n",
       "  Text(55, 0, 'Togo'),\n",
       "  Text(56, 0, 'Trinidad'),\n",
       "  Text(57, 0, 'U.S.A.'),\n",
       "  Text(58, 0, 'Uganda'),\n",
       "  Text(59, 0, 'Vanuatu'),\n",
       "  Text(60, 0, 'Venezuela'),\n",
       "  Text(61, 0, 'Vietnam')])"
      ]
     },
     "execution_count": 17,
     "metadata": {},
     "output_type": "execute_result"
    },
    {
     "data": {
      "image/png": "[encoded data removed]",
      "text/plain": [
       "<Figure size 1440x432 with 1 Axes>"
      ]
     },
     "metadata": {
      "needs_background": "light"
     },
     "output_type": "display_data"
    }
   ],
   "source": [
    "plt.figure(figsize = (20,6))\n",
    "plt.title('Bars reviewed per country')\n",
    "sns.barplot(x = 'bean_origin', y = 'total_bars', data = bars_reviewed)\n",
    "plt.xticks(rotation = 90)\n"
   ]
  },
  {
   "cell_type": "markdown",
   "id": "4fa341c7",
   "metadata": {},
   "source": [
    "\n",
    "### Is the cocoa bean origin an indicator of quantity?"
   ]
  },
  {
   "cell_type": "code",
   "execution_count": 18,
   "id": "e31911af",
   "metadata": {},
   "outputs": [
    {
     "data": {
      "text/plain": [
       "(array([ 0,  1,  2,  3,  4,  5,  6,  7,  8,  9, 10, 11, 12, 13, 14, 15, 16,\n",
       "        17, 18, 19, 20, 21, 22, 23, 24, 25, 26, 27, 28, 29, 30, 31, 32, 33,\n",
       "        34, 35, 36, 37, 38, 39, 40, 41, 42, 43, 44, 45, 46, 47, 48, 49, 50,\n",
       "        51, 52, 53, 54, 55, 56, 57, 58, 59, 60, 61]),\n",
       " [Text(0, 0, 'Tanzania'),\n",
       "  Text(1, 0, 'Dominican Republic'),\n",
       "  Text(2, 0, 'Madagascar'),\n",
       "  Text(3, 0, 'Fiji'),\n",
       "  Text(4, 0, 'Venezuela'),\n",
       "  Text(5, 0, 'Uganda'),\n",
       "  Text(6, 0, 'India'),\n",
       "  Text(7, 0, 'Bolivia'),\n",
       "  Text(8, 0, 'Peru'),\n",
       "  Text(9, 0, 'Panama'),\n",
       "  Text(10, 0, 'Colombia'),\n",
       "  Text(11, 0, 'Burma'),\n",
       "  Text(12, 0, 'Brazil'),\n",
       "  Text(13, 0, 'Papua New Guinea'),\n",
       "  Text(14, 0, 'Ecuador'),\n",
       "  Text(15, 0, 'Cuba'),\n",
       "  Text(16, 0, 'Togo'),\n",
       "  Text(17, 0, 'Sao Tome'),\n",
       "  Text(18, 0, 'Mexico'),\n",
       "  Text(19, 0, 'Vanuatu'),\n",
       "  Text(20, 0, 'Indonesia'),\n",
       "  Text(21, 0, 'Trinidad'),\n",
       "  Text(22, 0, 'Vietnam'),\n",
       "  Text(23, 0, 'Nicaragua'),\n",
       "  Text(24, 0, 'Ghana'),\n",
       "  Text(25, 0, 'Belize'),\n",
       "  Text(26, 0, 'Blend'),\n",
       "  Text(27, 0, 'Jamaica'),\n",
       "  Text(28, 0, 'Grenada'),\n",
       "  Text(29, 0, 'Guatemala'),\n",
       "  Text(30, 0, 'Honduras'),\n",
       "  Text(31, 0, 'Costa Rica'),\n",
       "  Text(32, 0, 'Haiti'),\n",
       "  Text(33, 0, 'Congo'),\n",
       "  Text(34, 0, 'Philippines'),\n",
       "  Text(35, 0, 'Solomon Islands'),\n",
       "  Text(36, 0, 'Malaysia'),\n",
       "  Text(37, 0, 'Sri Lanka'),\n",
       "  Text(38, 0, 'Ivory Coast'),\n",
       "  Text(39, 0, 'Gabon'),\n",
       "  Text(40, 0, 'Taiwan'),\n",
       "  Text(41, 0, 'Puerto Rico'),\n",
       "  Text(42, 0, 'Martinique'),\n",
       "  Text(43, 0, 'St. Lucia'),\n",
       "  Text(44, 0, 'Australia'),\n",
       "  Text(45, 0, 'Liberia'),\n",
       "  Text(46, 0, 'Sierra Leone'),\n",
       "  Text(47, 0, 'Nigeria'),\n",
       "  Text(48, 0, 'U.S.A.'),\n",
       "  Text(49, 0, 'St.Vincent-Grenadines'),\n",
       "  Text(50, 0, 'Thailand'),\n",
       "  Text(51, 0, 'Tobago'),\n",
       "  Text(52, 0, 'Sao Tome & Principe'),\n",
       "  Text(53, 0, 'Sumatra'),\n",
       "  Text(54, 0, 'El Salvador'),\n",
       "  Text(55, 0, 'Cameroon'),\n",
       "  Text(56, 0, 'Samoa'),\n",
       "  Text(57, 0, 'China'),\n",
       "  Text(58, 0, 'Principe'),\n",
       "  Text(59, 0, 'Sulawesi'),\n",
       "  Text(60, 0, 'Suriname'),\n",
       "  Text(61, 0, 'DR Congo')])"
      ]
     },
     "execution_count": 18,
     "metadata": {},
     "output_type": "execute_result"
    },
    {
     "data": {
      "image/png": "[encoded data removed]",
      "text/plain": [
       "<Figure size 1440x504 with 1 Axes>"
      ]
     },
     "metadata": {
      "needs_background": "light"
     },
     "output_type": "display_data"
    }
   ],
   "source": [
    "plt.figure(figsize = (20,7))\n",
    "sns.boxplot(x = choco_bars.bean_origin, y = choco_bars.rating)\n",
    "plt.xticks(rotation = 90)\n",
    "\n"
   ]
  },
  {
   "cell_type": "markdown",
   "id": "ed3bba9d",
   "metadata": {},
   "source": [
    "**COMMENT**\n",
    "1. We used how the chocolate was rated to determing the quality. The higher the rating, the more quality it has.\n",
    "2. A boxplot shows the distribution of numeric data values. For each country, we can be able to see how distributed they are. Taking Tanzania for example, a chocolate bar produced with the bean gotten from it, recieved a rating of 4.0 but it also recieved a rating 2.5(if we ignore the outliers). The rating values are not close but far apart. This proves that bean_origin an indicator of quantity."
   ]
  },
  {
   "cell_type": "markdown",
   "id": "39da788a",
   "metadata": {},
   "source": [
    "### How does cocoa content relate to rating?\n"
   ]
  },
  {
   "cell_type": "code",
   "execution_count": 19,
   "id": "133f5851",
   "metadata": {},
   "outputs": [],
   "source": [
    "choco_bars2 = choco_bars.loc[(choco_bars.rating >= 3.0) &(choco_bars.cocoa_percent >= 70)]\n"
   ]
  },
  {
   "cell_type": "code",
   "execution_count": 20,
   "id": "27844e73",
   "metadata": {},
   "outputs": [
    {
     "data": {
      "text/plain": [
       "<AxesSubplot:title={'center':'Correlation of cocoa_percent and rating'}, xlabel='rating', ylabel='cocoa_percent'>"
      ]
     },
     "execution_count": 20,
     "metadata": {},
     "output_type": "execute_result"
    },
    {
     "data": {
      "image/png": "[encoded data removed]",
      "text/plain": [
       "<Figure size 1440x504 with 1 Axes>"
      ]
     },
     "metadata": {
      "needs_background": "light"
     },
     "output_type": "display_data"
    }
   ],
   "source": [
    "warnings.filterwarnings(\"ignore\")\n",
    "plt.figure(figsize = (20,7))\n",
    "plt.title('Correlation of cocoa_percent and rating')\n",
    "sns.swarmplot(x = 'rating' , y = 'cocoa_percent', data = choco_bars2)\n"
   ]
  },
  {
   "cell_type": "markdown",
   "id": "e46ef2e4",
   "metadata": {},
   "source": [
    "**COMMENTS**\n",
    "- Cocoa_percent and rating is not correlated"
   ]
  },
  {
   "cell_type": "markdown",
   "id": "bf6e7cc6",
   "metadata": {},
   "source": [
    "### Average cocoa rating for bars with higher rating?"
   ]
  },
  {
   "cell_type": "code",
   "execution_count": 21,
   "id": "1ca2fad5",
   "metadata": {},
   "outputs": [
    {
     "data": {
      "text/plain": [
       "70.99630541871922"
      ]
     },
     "execution_count": 21,
     "metadata": {},
     "output_type": "execute_result"
    }
   ],
   "source": [
    "choco_bars3 = choco_bars.loc[choco_bars.rating > 3.5]\n",
    "choco_bars3.cocoa_percent.mean()"
   ]
  },
  {
   "cell_type": "markdown",
   "id": "f2883cfa",
   "metadata": {},
   "source": [
    "### Average rating of bars with and without Lecithin(L  in the ingredients)"
   ]
  },
  {
   "cell_type": "code",
   "execution_count": 22,
   "id": "fcbc5185",
   "metadata": {},
   "outputs": [
    {
     "data": {
      "text/plain": [
       "array(['B,S,C', 'B,S,C,L', 'B,S', 'B,S,C,V', 'B,S,C,V,L', 'B,S,C,V,L,Sa',\n",
       "       'B,S,C,V,Sa', 'B,S,V,L', 'B,S*', 'B', 'B,S*,C', 'B,S,L', 'B,S,V',\n",
       "       'B,S*,C,L', 'B,S*,C,Sa', 'B,S*,Sa', 'B,S,C,Sa', 'B,S*,V,L', 'B,C',\n",
       "       'B,S*,C,V', 'B,S,C,L,Sa'], dtype=object)"
      ]
     },
     "execution_count": 22,
     "metadata": {},
     "output_type": "execute_result"
    }
   ],
   "source": [
    "#To know the unique ingredients used \n",
    "choco_bars.ingredients.unique()"
   ]
  },
  {
   "cell_type": "code",
   "execution_count": 23,
   "id": "ee601713",
   "metadata": {},
   "outputs": [],
   "source": [
    "#chocolate bars with lecithin. #cbnl means choco bars without lecithin while cbl means choco bars with lecithin\n",
    "cbnl = choco_bars.loc[choco_bars.ingredients.isin(['B,S,C', 'B,S', 'B,S,C,V', \n",
    "       'B,S,C,V,Sa',  'B,S*', 'B', 'B,S*,C', \n",
    "       'B,S,V', 'B,S*,C,Sa', 'B,S*,Sa', 'B,S,C,Sa',\n",
    "       'B,C', 'B,S*,C,V', ])]\n",
    "cbl = choco_bars.loc[choco_bars.ingredients.isin(['B,S,C,L', 'B,S,C,V,L','B,S,C,V,L,Sa','B,S,V,L','B,S,L', 'B,S*,C,L', 'B,S*,V,L','B,S,C,L,Sa'])]\n"
   ]
  },
  {
   "cell_type": "code",
   "execution_count": 24,
   "id": "16c6eb04",
   "metadata": {},
   "outputs": [
    {
     "data": {
      "text/plain": [
       "3.2251282051282053"
      ]
     },
     "execution_count": 24,
     "metadata": {},
     "output_type": "execute_result"
    }
   ],
   "source": [
    "cbnl.rating.mean()"
   ]
  },
  {
   "cell_type": "code",
   "execution_count": 25,
   "id": "aaed774b",
   "metadata": {},
   "outputs": [
    {
     "data": {
      "text/plain": [
       "3.150608519269777"
      ]
     },
     "execution_count": 25,
     "metadata": {},
     "output_type": "execute_result"
    }
   ],
   "source": [
    "cbl.rating.mean()"
   ]
  },
  {
   "cell_type": "markdown",
   "id": "c9d6267d",
   "metadata": {},
   "source": [
    "**COMMENTS**\n",
    "- From the rating, people preferred chocholate without lecthin to chocolate with lecithin"
   ]
  },
  {
   "cell_type": "markdown",
   "id": "99d0bb94",
   "metadata": {},
   "source": [
    "### Summary Findings\n",
    "1. From this data, a total of 62 countries were recorded to produce data for chocolate bars. \n",
    "2. The bean_origin influence on the rating is low.\n",
    "3. On the production of your chocolate bars is best to avoid lecithin.\n",
    "4. Competition might be higher in U.S.A as more chocolate bars are produced in it. \n",
    "5. Beans(B), Sugar(S) and Cocoa_butter(C) are the most popular ingredients used in the prodction of chocolate bars.\n",
    "\n"
   ]
  },
  {
   "cell_type": "code",
   "execution_count": null,
   "id": "df21dee4",
   "metadata": {},
   "outputs": [],
   "source": []
  }
 ],
 "metadata": {
  "kernelspec": {
   "display_name": "Python 3 (ipykernel)",
   "language": "python",
   "name": "python3"
  },
  "language_info": {
   "codemirror_mode": {
    "name": "ipython",
    "version": 3
   },
   "file_extension": ".py",
   "mimetype": "text/x-python",
   "name": "python",
   "nbconvert_exporter": "python",
   "pygments_lexer": "ipython3",
   "version": "3.9.12"
  }
 },
 "nbformat": 4,
 "nbformat_minor": 5
}
